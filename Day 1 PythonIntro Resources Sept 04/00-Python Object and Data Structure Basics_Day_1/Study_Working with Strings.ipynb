{
 "cells": [
  {
   "cell_type": "markdown",
   "metadata": {},
   "source": [
    "# Working with Strings\n",
    "\n",
    "You will be using strings very often when you program. A string is a series of letters surrounded by single, double or triple quotes. Python 3 defines string as a \"Text Sequence Type\". You can cast other types to a string using the built-in `str()` function."
   ]
  },
  {
   "cell_type": "code",
   "execution_count": null,
   "metadata": {},
   "outputs": [],
   "source": [
    "a = 1\n",
    "str()\n",
    "\n"
   ]
  },
  {
   "cell_type": "markdown",
   "metadata": {},
   "source": [
    "## Creating Strings\n",
    "\n",
    "Here are some examples of creating strings:"
   ]
  },
  {
   "cell_type": "code",
   "execution_count": null,
   "metadata": {},
   "outputs": [],
   "source": [
    "name = 'Mike'\n",
    "first_name = 'Mike'\n",
    "last_name = \"Driscoll\"\n",
    "triple = \"\"\"multi-line\n",
    "string\"\"\""
   ]
  },
  {
   "cell_type": "markdown",
   "metadata": {},
   "source": [
    "When you use triple quotes, you may use three double quotes at the beginning and end of the string or three single quotes. Also, note that using triple quotes allows you to create multi-line strings. Any whitespace within the string will also be included.\n",
    "\n",
    "Here is an example of converting an integer to a string:"
   ]
  },
  {
   "cell_type": "code",
   "execution_count": null,
   "metadata": {},
   "outputs": [],
   "source": [
    "number = 5\n",
    "str(number)\n",
    "print(type(number))"
   ]
  },
  {
   "cell_type": "markdown",
   "metadata": {},
   "source": [
    "In Python, backslashes can be used to create escape sequences. Here are a couple of examples:\n",
    "\n",
    "* `\\b` - backspace\n",
    "* `\\n` - line feed\n",
    "* `\\r` - ASCII carriage return\n",
    "* `\\t` - tab\n",
    "\n",
    "There are several others that you can learn about if you read Python's documentation."
   ]
  },
  {
   "cell_type": "markdown",
   "metadata": {},
   "source": [
    "You can also use backslashes to escape quotes:"
   ]
  },
  {
   "cell_type": "code",
   "execution_count": null,
   "metadata": {},
   "outputs": [],
   "source": [
    "'This string has a single quote, \\', in the middle'\n",
    "#print(len('\\'))\n",
    "print(len('\\\\\\\\'))"
   ]
  },
  {
   "cell_type": "markdown",
   "metadata": {},
   "source": [
    "## String Methods\n",
    "\n",
    "In Python, everything is an object. You will learn how useful this can be in chapter 18 when you learn about introspection. For now, just know that strings have methods (or functions) that you can call on them.\n",
    "\n",
    "Here are three examples:"
   ]
  },
  {
   "cell_type": "code",
   "execution_count": null,
   "metadata": {},
   "outputs": [],
   "source": [
    "name = 'mike'\n",
    "name.capitalize()"
   ]
  },
  {
   "cell_type": "code",
   "execution_count": null,
   "metadata": {},
   "outputs": [],
   "source": [
    "name.upper()"
   ]
  },
  {
   "cell_type": "code",
   "execution_count": null,
   "metadata": {},
   "outputs": [],
   "source": [
    "'MIke'.lower()"
   ]
  },
  {
   "cell_type": "markdown",
   "metadata": {},
   "source": [
    "To get a full listing of the methods and attributes that you can access, you can use Python's built-in `dir()` function:"
   ]
  },
  {
   "cell_type": "code",
   "execution_count": null,
   "metadata": {},
   "outputs": [],
   "source": [
    "dir(name)"
   ]
  },
  {
   "cell_type": "markdown",
   "metadata": {},
   "source": [
    "Let's do a little exercise where you will learn how to parse out the 2nd word in a string.\n",
    "\n",
    "To start, here's a string:"
   ]
  },
  {
   "cell_type": "code",
   "execution_count": null,
   "metadata": {},
   "outputs": [],
   "source": [
    "my_string = 'This is a string of words'"
   ]
  },
  {
   "cell_type": "markdown",
   "metadata": {},
   "source": [
    "Now to get the parts of a string, you can call `.split()`, like this:"
   ]
  },
  {
   "cell_type": "code",
   "execution_count": null,
   "metadata": {},
   "outputs": [],
   "source": [
    "My_string_two = my_string.split()\n",
    "print(My_string_two)"
   ]
  },
  {
   "cell_type": "markdown",
   "metadata": {},
   "source": [
    "The result is a `list` of strings. Now normally you would assign this result to a variable, but for demonstration purposes, you can skip that part.\n",
    "\n",
    "Instead, since you now know that the result is a string, you can use list slicing to get the second element:"
   ]
  },
  {
   "cell_type": "code",
   "execution_count": null,
   "metadata": {},
   "outputs": [],
   "source": [
    "'This is a string of words'.split()[1]"
   ]
  },
  {
   "cell_type": "markdown",
   "metadata": {},
   "source": [
    "Remember, in Python, lists elements start at 0 (zero), so when you tell it you want element 1 (one), that is the second element in the list."
   ]
  },
  {
   "cell_type": "markdown",
   "metadata": {},
   "source": [
    "## String Formatting\n",
    "\n",
    "String formatting or string substitution is where you have a string that you would like to insert into another string. This is especially useful when you need to do a template, like a form letter. But you will use string substitution a lot for debugging output, printing to standard out and much more.\n",
    "\n",
    "Python has three different ways to accomplish string formatting:\n",
    "\n",
    "* Using the % Method\n",
    "* Using `.format()`\n",
    "* Using formatted string literals (f-strings)"
   ]
  },
  {
   "cell_type": "markdown",
   "metadata": {},
   "source": [
    "## Formatting Strings Using %s (printf-style)\n",
    "\n",
    "Using the `%` method is Python's oldest method of string formatting. It is sometimes referred to as \"printf-style string formatting\". If you have used C or C++ in the past, then you may already be familiar with this type of string substitution. For brevity, you will learn the basics of using `%` here.\n",
    "\n",
    "The most common use of using the `%` sign is when you would use `%s`, which means convert any Python object to a string using `str()`.\n",
    "\n",
    "Here is an example:"
   ]
  },
  {
   "cell_type": "code",
   "execution_count": null,
   "metadata": {},
   "outputs": [],
   "source": [
    "name = 'Mike'\n",
    "print('My name is %s' % name)"
   ]
  },
  {
   "cell_type": "markdown",
   "metadata": {},
   "source": [
    "In this code, you take the variable `name` and insert it into another string using the special `%s` syntax. To make it work, you need to use `%` outside of the string followed by the string or variable that you want to insert.\n",
    "\n",
    "Here is a second example that shows that you can pass in an `int` into a string and have it automatically converted for you:"
   ]
  },
  {
   "cell_type": "code",
   "execution_count": null,
   "metadata": {},
   "outputs": [],
   "source": [
    "age = 18\n",
    "print('You must be at least %s to continue' % age)"
   ]
  },
  {
   "cell_type": "markdown",
   "metadata": {},
   "source": [
    "You can also do string formatting with multiple variables. In fact, there are two ways to do this.\n",
    "\n",
    "Here's the first one:"
   ]
  },
  {
   "cell_type": "code",
   "execution_count": null,
   "metadata": {},
   "outputs": [],
   "source": [
    "name = 'Mike'\n",
    "age = 18\n",
    "print('Hello %s. You must be at least %i to continue!' % (name, age))"
   ]
  },
  {
   "cell_type": "markdown",
   "metadata": {},
   "source": [
    "In this example, you create two variables and use `%s` and `%i`. The `%i` indicates that you are going to pass an integer. To pass in multiple items, you use the percent sign followed by a tuple of the items to insert.\n",
    "\n",
    "You can make this clearer by using names, like this:"
   ]
  },
  {
   "cell_type": "code",
   "execution_count": null,
   "metadata": {},
   "outputs": [],
   "source": [
    "print('Hello %(name)s. You must be at least %(age)i to continue!' % {'name': name, 'age': age})"
   ]
  },
  {
   "cell_type": "markdown",
   "metadata": {},
   "source": [
    "When the argument on the right side of the `%` sign is a dictionary (or another mapping type), then the formats in the string must refer to the parenthesized key in the dictionary. In other words, if you see `%(name)s`, then the dictionary to the right of the `%` must have a `name` key.\n",
    "\n",
    "If you do not include all the keys that are required, you will receive an error:"
   ]
  },
  {
   "cell_type": "code",
   "execution_count": null,
   "metadata": {},
   "outputs": [],
   "source": [
    "print('Hello %(name)s. You must be at least %(age)i to continue!' % {'age': age})"
   ]
  },
  {
   "cell_type": "markdown",
   "metadata": {},
   "source": [
    "For more information about using the printf-style string formatting, you should see the following link:\n",
    "\n",
    "<https://docs.python.org/3/library/stdtypes.html#printf-style-string-formatting>"
   ]
  },
  {
   "cell_type": "markdown",
   "metadata": {},
   "source": [
    "## Formatting Strings Using .format()\n",
    "\n",
    "Python strings have supported the `.format()` method for a long time. While this book will focus on using f-strings, you will find that `.format()` is still quite popular.\n",
    "\n",
    "For full details on how formatting works, see the following:\n",
    "\n",
    "<https://docs.python.org/3/library/string.html#formatstrings>\n",
    "\n",
    "Let's take a look at a few short examples to see how `.format()` works."
   ]
  },
  {
   "cell_type": "code",
   "execution_count": null,
   "metadata": {},
   "outputs": [],
   "source": [
    "name = 'Mike'\n",
    "age = 18\n",
    "print('Hello {}. You must be at least {} to continue!'.format(name, age))"
   ]
  },
  {
   "cell_type": "markdown",
   "metadata": {},
   "source": [
    "This example uses positional arguments. Python looks for two instances of `{}` and will insert the variables accordingly. If you do not pass in enough arguments, you will receive an error like this:"
   ]
  },
  {
   "cell_type": "code",
   "execution_count": null,
   "metadata": {},
   "outputs": [],
   "source": [
    "print('Hello {}. You must be at least {} to continue!'.format(age))"
   ]
  },
  {
   "cell_type": "markdown",
   "metadata": {},
   "source": [
    "This error indicates that you do not have enough items inside the `.format()` call.\n",
    "\n",
    "You can also use named arguments in a similar way to the previous section:"
   ]
  },
  {
   "cell_type": "code",
   "execution_count": null,
   "metadata": {},
   "outputs": [],
   "source": [
    "name = 'Mike'\n",
    "age = 18\n",
    "print('Hello {name}. You must be at least {age} to continue!'.format(name=name, age=age))"
   ]
  },
  {
   "cell_type": "markdown",
   "metadata": {},
   "source": [
    "You can also use repeat a variable multiple times in the string using `.format()`:"
   ]
  },
  {
   "cell_type": "code",
   "execution_count": null,
   "metadata": {},
   "outputs": [],
   "source": [
    "name = 'Mike'\n",
    "print('Hello {name}. Why do they call you {name}?'.format(name=name))"
   ]
  },
  {
   "cell_type": "markdown",
   "metadata": {},
   "source": [
    "Here you refer to `{name}` twice in the string and you are able to replace both of them using `.format()`.\n",
    "\n",
    "If you want, you can also interpolate values using numbers:\n"
   ]
  },
  {
   "cell_type": "code",
   "execution_count": null,
   "metadata": {},
   "outputs": [],
   "source": [
    "print('Hello {1}. You must be at least {0} to continue!'.format(name, age))"
   ]
  },
  {
   "cell_type": "markdown",
   "metadata": {},
   "source": [
    "Because most things in Python start at 0 (zero), in this example you ended up passing the `age` to `{1}` and the `name` to `{0}`.\n",
    "\n",
    "A common coding style when working with `.format()` is to create a formatted string and save it to a variable to be used later:"
   ]
  },
  {
   "cell_type": "code",
   "execution_count": null,
   "metadata": {},
   "outputs": [],
   "source": [
    "name = 'Mike'\n",
    "age = 18\n",
    "greetings = 'Hello {name}. You must be at least {age} to continue!'\n",
    "greetings.format(name=name, age=age)"
   ]
  },
  {
   "cell_type": "markdown",
   "metadata": {},
   "source": [
    "This allows you to reuse `greetings` and pass in updated values for `name` and `age` later on in your program.\n",
    "\n",
    "You can also specify the string width and alignment:"
   ]
  },
  {
   "cell_type": "code",
   "execution_count": null,
   "metadata": {},
   "outputs": [],
   "source": [
    "'{:<20}'.format('left aligned')"
   ]
  },
  {
   "cell_type": "code",
   "execution_count": null,
   "metadata": {},
   "outputs": [],
   "source": [
    "'{:>20}'.format('right aligned')"
   ]
  },
  {
   "cell_type": "code",
   "execution_count": null,
   "metadata": {},
   "outputs": [],
   "source": [
    "'{:^20}'.format('centered')"
   ]
  },
  {
   "cell_type": "markdown",
   "metadata": {},
   "source": [
    "Left aligned is the default. The colon (`:`) tells Python that you are going to apply some kind of formatting. In the first example, you are specifying that the string be left aligned and 20 characters wide. The second example is also 20 characters wide, but it is right aligned. Finally the `^` tells Python to center the string within the 20 character string."
   ]
  },
  {
   "cell_type": "markdown",
   "metadata": {},
   "source": [
    "If you want to pass in a variable like in the previous examples, here is how you would do that:"
   ]
  },
  {
   "cell_type": "code",
   "execution_count": null,
   "metadata": {},
   "outputs": [],
   "source": [
    "'{name:^20}'.format(name='centered')"
   ]
  },
  {
   "cell_type": "markdown",
   "metadata": {},
   "source": [
    "Note that the `name` must come before the `:` inside of the `{}`.\n"
   ]
  },
  {
   "cell_type": "markdown",
   "metadata": {},
   "source": [
    "## Formatting Strings with f-strings\n",
    "\n",
    "Formatted string literals or f-strings are strings that have an \"f\" at the beginning and curly braces inside of them that contain expressions, much like the ones you saw in the previous section. These expressions tell the f-string about any special processing that needs to be done to the inserted string, such as justification, float precision, etc.\n",
    "\n",
    "The f-string was added in Python 3.6. You can read more about it and how it works by checking out PEP 498 here:\n",
    "\n",
    "<https://www.python.org/dev/peps/pep-0498/>\n",
    "\n",
    "The expressions that are contained inside of f-strings are evaluated at runtime. This makes it impossible to use an f-string as a docstring to a function, method or class if it contains an expression. The reason being that docstrings are defined at function definition time.\n",
    "\n",
    "Let's go ahead and look at a simple example:"
   ]
  },
  {
   "cell_type": "code",
   "execution_count": null,
   "metadata": {},
   "outputs": [],
   "source": [
    "name = 'Mike'\n",
    "age = 18\n",
    "f'Hello {name}. You are {age} years old'"
   ]
  },
  {
   "cell_type": "markdown",
   "metadata": {},
   "source": [
    "Here you create the f-string by putting an \"f\" right before the single, double or triple quote that begins your string. Then inside of the string, you use the curly braces, `{}`, to insert variables into your string.\n",
    "\n",
    "However, your curly braces must enclose something. If you create an f-string with empty braces, you will get an error:"
   ]
  },
  {
   "cell_type": "code",
   "execution_count": null,
   "metadata": {},
   "outputs": [],
   "source": [
    "f'Hello {}. You are {} years old'"
   ]
  },
  {
   "cell_type": "markdown",
   "metadata": {},
   "source": [
    "The f-string can do things that neither `%s` nor `.format()` can do though. Because of the fact that f-strings are evaluated at runtime, you can put any valid Python expression inside of them.\n",
    "\n",
    "For example, you could increase the `age` variable:"
   ]
  },
  {
   "cell_type": "code",
   "execution_count": null,
   "metadata": {},
   "outputs": [],
   "source": [
    "age = 20\n",
    "f'{age+2}'"
   ]
  },
  {
   "cell_type": "markdown",
   "metadata": {},
   "source": [
    "Or call a method or function:"
   ]
  },
  {
   "cell_type": "code",
   "execution_count": null,
   "metadata": {},
   "outputs": [],
   "source": [
    "name = 'Mike'\n",
    "f'{name.lower()}'"
   ]
  },
  {
   "cell_type": "markdown",
   "metadata": {},
   "source": [
    "You can also access dictionary values directly inside of an f-string:"
   ]
  },
  {
   "cell_type": "code",
   "execution_count": null,
   "metadata": {},
   "outputs": [],
   "source": [
    "sample_dict = {'name': 'Tom', 'age': 40}\n",
    "f'Hello {sample_dict[\"name\"]}. You are {sample_dict[\"age\"]} years old'"
   ]
  },
  {
   "cell_type": "markdown",
   "metadata": {},
   "source": [
    "However, backslashes are not allowed in f-string expressions:"
   ]
  },
  {
   "cell_type": "code",
   "execution_count": null,
   "metadata": {},
   "outputs": [],
   "source": [
    "print(f'My name is {name\\n}')"
   ]
  },
  {
   "cell_type": "markdown",
   "metadata": {},
   "source": [
    "But you can use backslashes outside of the expression in an f-string:"
   ]
  },
  {
   "cell_type": "code",
   "execution_count": null,
   "metadata": {},
   "outputs": [],
   "source": [
    "name = 'Mike'\n",
    "print(f'My name is {name}\\n')"
   ]
  },
  {
   "cell_type": "markdown",
   "metadata": {},
   "source": [
    "One other thing that you can't do is add a comment inside of an expression in an f-string:"
   ]
  },
  {
   "cell_type": "code",
   "execution_count": null,
   "metadata": {},
   "outputs": [],
   "source": [
    "f'My name is {name # name of person}'"
   ]
  },
  {
   "cell_type": "markdown",
   "metadata": {},
   "source": [
    "In Python 3.8, f-strings added support for `=`, which will expand the text of the expression to include the text of the expression plus the equal sign and then the evaluated expression. That sounds kind of complicated, so let's look at an example:\n",
    "\n",
    "```python\n",
    ">>> username = 'jdoe'\n",
    ">>> f'Your {username=}'\n",
    "\"Your username='jdoe'\"\n",
    "```\n",
    "\n",
    "This example demonstrates that the text inside of the expression, `username=` is added to the output followed by the actual value of `username` in quotes.\n",
    "\n",
    "f-strings are very powerful and extremely useful. They will simplify your code quite a bit if you use them wisely. You should definitely give them a try."
   ]
  },
  {
   "cell_type": "code",
   "execution_count": null,
   "metadata": {},
   "outputs": [],
   "source": [
    "username = 'jdoe'\n",
    "f'Your {username=}'\n"
   ]
  },
  {
   "cell_type": "markdown",
   "metadata": {},
   "source": [
    "## String Concatenation\n",
    "\n",
    "Strings also allow concatenation, which is a fancy word for joining two strings into one.\n",
    "\n",
    "To concatenate strings together, you can use the `+` sign:"
   ]
  },
  {
   "cell_type": "code",
   "execution_count": null,
   "metadata": {},
   "outputs": [],
   "source": [
    "first_string = 'My name is'\n",
    "second_string = 'Mike'\n",
    "first_string + second_string"
   ]
  },
  {
   "cell_type": "markdown",
   "metadata": {},
   "source": [
    "Oops! It looks like the strings merged in a weird way because you forgot to add a space to the end of the `first_string`. You can change it like this:\n"
   ]
  },
  {
   "cell_type": "code",
   "execution_count": null,
   "metadata": {},
   "outputs": [],
   "source": [
    "first_string = 'My name is '\n",
    "second_string = 'Mike'\n",
    "first_string + second_string"
   ]
  },
  {
   "cell_type": "markdown",
   "metadata": {},
   "source": [
    "Another way to merge strings is to use the `.join()` method. The `.join()` method accepts an iterable, such as a list, of strings and joins them together."
   ]
  },
  {
   "cell_type": "code",
   "execution_count": null,
   "metadata": {},
   "outputs": [],
   "source": [
    "first_string = 'My name is '\n",
    "second_string = 'Mike'\n",
    "''.join([first_string, second_string])"
   ]
  },
  {
   "cell_type": "markdown",
   "metadata": {},
   "source": [
    "This will make the strings join right next to each other. You could put something inside of the string that you are joining though:"
   ]
  },
  {
   "cell_type": "code",
   "execution_count": null,
   "metadata": {},
   "outputs": [],
   "source": [
    "'***'.join([first_string, second_string])"
   ]
  },
  {
   "cell_type": "markdown",
   "metadata": {},
   "source": [
    "In this case, it will join the first string to `***` plus the second string.\n",
    "\n",
    "More often than not, you can use an f-string rather than concatenation or `.join()` and the code will be easier to follow."
   ]
  },
  {
   "cell_type": "markdown",
   "metadata": {},
   "source": [
    "## String Slicing\n",
    "\n",
    "Slicing in strings works in much the same way that it does for Python lists. Let's take the string \"Mike\". The letter \"M\" is at position zero and the letter \"e\" is at position 3.\n",
    "\n",
    "If you want to grab characters 0-3, you would use this syntax: `my_string[0:4]`\n",
    "\n",
    "What that means is that you want the substring starting at position zero up to but not including position 4.\n",
    "\n",
    "Here are a few examples:"
   ]
  },
  {
   "cell_type": "code",
   "execution_count": null,
   "metadata": {},
   "outputs": [],
   "source": [
    "'this is a string'[0:4]"
   ]
  },
  {
   "cell_type": "code",
   "execution_count": null,
   "metadata": {},
   "outputs": [],
   "source": [
    "'this is a string'[:4]"
   ]
  },
  {
   "cell_type": "code",
   "execution_count": null,
   "metadata": {},
   "outputs": [],
   "source": [
    "'this is a string'[-4:]"
   ]
  },
  {
   "cell_type": "markdown",
   "metadata": {},
   "source": [
    "The first example grabs the first four letters from the string and returns them. If you want to, you can drop the zero as that is the default and use `[:4]` instead, which is what example two does.\n",
    "\n",
    "You can also use negative position values. So `[-4:]` means that you want to start at the end of the string and get the last four letters of the string.\n",
    "\n",
    "You should play around with slicing on your own and see what other slices you can come up with."
   ]
  },
  {
   "cell_type": "code",
   "execution_count": null,
   "metadata": {},
   "outputs": [],
   "source": []
  }
 ],
 "metadata": {
  "kernelspec": {
   "display_name": "Python 3.10.3 64-bit",
   "language": "python",
   "name": "python3"
  },
  "language_info": {
   "codemirror_mode": {
    "name": "ipython",
    "version": 3
   },
   "file_extension": ".py",
   "mimetype": "text/x-python",
   "name": "python",
   "nbconvert_exporter": "python",
   "pygments_lexer": "ipython3",
   "version": "3.10.3"
  },
  "vscode": {
   "interpreter": {
    "hash": "52634da84371cba311ea128a5ea7cdc41ff074b781779e754b270ff9f8153cee"
   }
  }
 },
 "nbformat": 4,
 "nbformat_minor": 2
}
