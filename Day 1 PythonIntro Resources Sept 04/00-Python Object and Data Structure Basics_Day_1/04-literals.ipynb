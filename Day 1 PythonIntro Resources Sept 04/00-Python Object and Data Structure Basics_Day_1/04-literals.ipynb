{
 "cells": [
  {
   "cell_type": "markdown",
   "metadata": {},
   "source": [
    "# Literals in Python\n",
    "\n",
    "\n",
    "Generally, literals are a notation for representing a fixed value in source code. \n",
    "They can also be defined as a raw value or data given in variables or constants. \n",
    "\n",
    "Example:"
   ]
  },
  {
   "cell_type": "code",
   "execution_count": 1,
   "metadata": {},
   "outputs": [
    {
     "name": "stdout",
     "output_type": "stream",
     "text": [
      "24 24.3 (2+3j)\n"
     ]
    }
   ],
   "source": [
    "# Numeric literals\n",
    "x = 24\n",
    "y = 24.3\n",
    "z = 2+3j\n",
    "print(x, y, z)"
   ]
  },
  {
   "cell_type": "markdown",
   "metadata": {},
   "source": [
    "Here 24, 24.3, 2+3j are considered as literals. "
   ]
  },
  {
   "cell_type": "markdown",
   "metadata": {},
   "source": [
    "## Python has different types of literals.\n",
    "\n",
    "1. String literals\n",
    "2. Numeric literals\n",
    "3. Boolean literals\n",
    "4. Literal Collections\n",
    "5. Special literals"
   ]
  },
  {
   "cell_type": "markdown",
   "metadata": {},
   "source": [
    "# String literals\n",
    "A string literal can be created by writing a text(a group of Characters ) surrounded by the single(”), double(“”), or triple quotes.  By using triple quotes we can write multi-line strings or display in the desired way. \n",
    "\n",
    "Example:"
   ]
  },
  {
   "cell_type": "code",
   "execution_count": 3,
   "metadata": {},
   "outputs": [
    {
     "name": "stdout",
     "output_type": "stream",
     "text": [
      "PythonforPCEP\n",
      "PythonforPCEP\n",
      " Python\n",
      "           for\n",
      "               PCEP \n"
     ]
    }
   ],
   "source": [
    "\n",
    "# string literals\n",
    " \n",
    "# in single quote\n",
    "s = 'PythonforPCEP'\n",
    " \n",
    "# in double quotes\n",
    "t = \"PythonforPCEP\"\n",
    " \n",
    "# multi-line String\n",
    "m = ''' Python\n",
    "           for\n",
    "               PCEP '''\n",
    " \n",
    "print(s)\n",
    "print(t)\n",
    "print(m)"
   ]
  },
  {
   "cell_type": "markdown",
   "metadata": {},
   "source": [
    "above  PythonforPCEP is string literal which is assigned to variable(s). \n",
    "\n",
    "## Character literal\n",
    "It is also a type of string literals where a single character surrounded by single or double-quotes.\n",
    "\n",
    "Example:"
   ]
  },
  {
   "cell_type": "code",
   "execution_count": 4,
   "metadata": {},
   "outputs": [
    {
     "name": "stdout",
     "output_type": "stream",
     "text": [
      "n\n",
      "a\n"
     ]
    }
   ],
   "source": [
    "\n",
    "# character literal in single quote\n",
    "v = 'n'\n",
    " \n",
    "# character literal in double quotes\n",
    "w = \"a\"\n",
    " \n",
    "print(v)\n",
    "print(w)"
   ]
  },
  {
   "cell_type": "markdown",
   "metadata": {},
   "source": [
    "# Numeric literals\n",
    "They are  immutable and there are three types of numeric literal : \n",
    "\n",
    "1. Integer\n",
    "2. Float\n",
    "3. Complex.\n",
    "4. Integer :\n",
    "\n",
    "\n",
    " Both positive and negative numbers including 0. There should not be any fractional part.\n",
    "\n",
    "Example:"
   ]
  },
  {
   "cell_type": "markdown",
   "metadata": {},
   "source": [
    "In the program Below we assigned integer literals (0b10100, 50, 0o320, 0x12b) into different variables. Here, ‘a‘ is binary literal, ‘b’ is a decimal literal, ‘c‘ is an octal literal and ‘d‘ is a hexadecimal literal. But on using print function to display value or to get output they were converted into decimal."
   ]
  },
  {
   "cell_type": "code",
   "execution_count": 5,
   "metadata": {},
   "outputs": [
    {
     "name": "stdout",
     "output_type": "stream",
     "text": [
      "20 50 208 299\n"
     ]
    }
   ],
   "source": [
    "# integer literal\n",
    " \n",
    "# Binary Literals\n",
    "a = 0b10100\n",
    " \n",
    "# Decimal Literal\n",
    "b = 50\n",
    " \n",
    "# Octal Literal\n",
    "c = 0o320\n",
    " \n",
    "# Hexadecimal Literal\n",
    "d = 0x12b\n",
    " \n",
    "print(a, b, c, d)\n",
    "\n"
   ]
  },
  {
   "cell_type": "markdown",
   "metadata": {},
   "source": [
    "Float\n",
    " These are real numbers having both integer and fractional parts.\n",
    "\n",
    "Example:\n",
    "\n"
   ]
  },
  {
   "cell_type": "code",
   "execution_count": 6,
   "metadata": {},
   "outputs": [
    {
     "name": "stdout",
     "output_type": "stream",
     "text": [
      "24.8 45.0\n"
     ]
    }
   ],
   "source": [
    "\n",
    "# Float Literal\n",
    "e = 24.8\n",
    "f = 45.0\n",
    " \n",
    "print(e, f)\n",
    "#24.8 and 45.0 are floating-point literals because both 24.8 and 45.0 are floating-point numbers."
   ]
  },
  {
   "cell_type": "markdown",
   "metadata": {},
   "source": [
    "Complex Literal \n",
    "The numerals will be in the form of a + bj, where ‘a‘ is the real part and ‘b‘ is the complex part.\n",
    "\n",
    "Example:"
   ]
  },
  {
   "cell_type": "code",
   "execution_count": 7,
   "metadata": {},
   "outputs": [
    {
     "name": "stdout",
     "output_type": "stream",
     "text": [
      "(7+5j) 7j\n"
     ]
    }
   ],
   "source": [
    "z = 7 + 5j\n",
    " \n",
    "# real part is 0 here.\n",
    "k = 7j\n",
    " \n",
    "print(z, k)"
   ]
  },
  {
   "cell_type": "markdown",
   "metadata": {},
   "source": [
    "# Boolean literals\n",
    "There are only two Boolean literals in Python. They are true and false.\n",
    "\n",
    "Example:"
   ]
  },
  {
   "cell_type": "code",
   "execution_count": 8,
   "metadata": {},
   "outputs": [
    {
     "name": "stdout",
     "output_type": "stream",
     "text": [
      "a is True\n",
      "b is False\n",
      "c: 4\n",
      "d: 7\n"
     ]
    }
   ],
   "source": [
    "a = (1 == True)\n",
    "b = (1 == False)\n",
    "c = True + 3\n",
    "d = False + 7\n",
    " \n",
    "print(\"a is\", a)\n",
    "print(\"b is\", b)\n",
    "print(\"c:\", c)\n",
    "print(\"d:\", d)"
   ]
  },
  {
   "cell_type": "markdown",
   "metadata": {},
   "source": [
    "In python, True represents the value as 1 and False represents the value as 0. In the above example ‘a‘ is True and ‘b‘ is False because 1 equal to True."
   ]
  },
  {
   "cell_type": "code",
   "execution_count": 9,
   "metadata": {},
   "outputs": [
    {
     "name": "stdout",
     "output_type": "stream",
     "text": [
      "x is True\n",
      "y is False\n",
      "z is True\n",
      "a: 11\n",
      "b: 10\n"
     ]
    }
   ],
   "source": [
    "\n",
    "x = (1 == True)\n",
    "y = (2 == False)\n",
    "z = (3 == True)\n",
    "r = (1 == True)\n",
    "a = True + 10\n",
    "b = False + 10\n",
    " \n",
    "print(\"x is\", x)\n",
    "print(\"y is\", y)\n",
    "print(\"z is\", r)\n",
    "print(\"a:\", a)\n",
    "print(\"b:\", b)"
   ]
  },
  {
   "cell_type": "markdown",
   "metadata": {},
   "source": [
    "# Literal Collections\n",
    "There are four different types of literal collections\n",
    "\n",
    "List literals\n",
    "Tuple literals\n",
    "Dict literals\n",
    "Set literals\n",
    "\n",
    "\n",
    "## List literals \n",
    "List contains items of different data types. The values stored in List are separated by comma (,) and enclosed within square brackets([]). We can store different types of data in a List. Lists are mutable.\n",
    "\n",
    "Example : "
   ]
  },
  {
   "cell_type": "code",
   "execution_count": 10,
   "metadata": {},
   "outputs": [
    {
     "name": "stdout",
     "output_type": "stream",
     "text": [
      "[1, 2, 3, 4, 5]\n",
      "['Amit', 'kabir', 'bhaskar', 2]\n"
     ]
    }
   ],
   "source": [
    "# List literals\n",
    "number = [1, 2, 3, 4, 5]\n",
    "name = ['Amit', 'kabir', 'bhaskar', 2]\n",
    "print(number)\n",
    "print(name)"
   ]
  },
  {
   "cell_type": "markdown",
   "metadata": {},
   "source": [
    "## Tuple literals\n",
    "A tuple is a collection of different data-type.  It is enclosed by the parentheses ‘()‘ and each element is separated by the comma(,). It is immutable.\n",
    "\n",
    "Example: "
   ]
  },
  {
   "cell_type": "code",
   "execution_count": 11,
   "metadata": {},
   "outputs": [
    {
     "name": "stdout",
     "output_type": "stream",
     "text": [
      "(2, 4, 6, 8)\n",
      "(1, 3, 5, 7)\n"
     ]
    }
   ],
   "source": [
    "\n",
    "# Tuple literals\n",
    "even_number = (2, 4, 6, 8)\n",
    "odd_number = (1, 3, 5, 7)\n",
    " \n",
    "print(even_number)\n",
    "print(odd_number)"
   ]
  },
  {
   "cell_type": "markdown",
   "metadata": {},
   "source": [
    "# Dictionary literals\n",
    "Dictionary stores the data in the key-value pair. It is enclosed by curly-braces ‘{}‘ and each pair is separated by the commas(,).  We can store different types of data in a dictionary. Dictionaries are mutable.\n",
    "\n",
    "Example: \n"
   ]
  },
  {
   "cell_type": "code",
   "execution_count": 12,
   "metadata": {},
   "outputs": [
    {
     "name": "stdout",
     "output_type": "stream",
     "text": [
      "{'a': 'apple', 'b': 'ball', 'c': 'cat'}\n",
      "{'name': 'amit', 'age': 20, 'ID': 20}\n"
     ]
    }
   ],
   "source": [
    "# Dict literals\n",
    "alphabets = {'a': 'apple', 'b': 'ball', 'c': 'cat'}\n",
    "information = {'name': 'amit', 'age': 20, 'ID': 20}\n",
    " \n",
    "print(alphabets)\n",
    "print(information)"
   ]
  },
  {
   "cell_type": "markdown",
   "metadata": {},
   "source": [
    "# Set literals\n",
    " Set is the collection of the unordered data set. It is enclosed by the {} and each element is separated by the comma(,).\n",
    "\n",
    "Example: we can create a set of vowels and fruits. "
   ]
  },
  {
   "cell_type": "code",
   "execution_count": 13,
   "metadata": {},
   "outputs": [
    {
     "name": "stdout",
     "output_type": "stream",
     "text": [
      "{'u', 'a', 'i', 'o', 'e'}\n",
      "{'apple', 'banana', 'cherry'}\n"
     ]
    }
   ],
   "source": [
    "# Set literals\n",
    "vowels = {'a', 'e', 'i', 'o', 'u'}\n",
    "fruits = {\"apple\", \"banana\", \"cherry\"}\n",
    " \n",
    "print(vowels)\n",
    "print(fruits)"
   ]
  },
  {
   "cell_type": "markdown",
   "metadata": {},
   "source": [
    "# Special literals\n",
    "Python contains one special literal (None). ‘None’ is used to define a null variable. If ‘None’ is compared with anything else other than a ‘None’, it will return false.\n",
    "\n",
    "Example:"
   ]
  },
  {
   "cell_type": "code",
   "execution_count": 2,
   "metadata": {},
   "outputs": [
    {
     "name": "stdout",
     "output_type": "stream",
     "text": [
      "None\n"
     ]
    }
   ],
   "source": [
    "# Special literals\n",
    "water_remain = None\n",
    "print(water_remain)"
   ]
  },
  {
   "cell_type": "markdown",
   "metadata": {},
   "source": [
    "# Sets in Python\n",
    "\n",
    "A Set is an unordered collection data type that is iterable, mutable and has no duplicate elements. Python’s set class represents the mathematical notion of a set. The major advantage of using a set, as opposed to a list, is that it has a highly optimized method for checking whether a specific element is contained in the set. This is based on a data structure known as a hash table. Since sets are unordered, we cannot access items using indexes like we do in lists."
   ]
  },
  {
   "cell_type": "code",
   "execution_count": 14,
   "metadata": {},
   "outputs": [
    {
     "name": "stdout",
     "output_type": "stream",
     "text": [
      "{'b', 'c', 'a'}\n",
      "{'b', 'd', 'c', 'a'}\n"
     ]
    }
   ],
   "source": [
    "\n",
    "# Python program to\n",
    "# demonstrate sets\n",
    " \n",
    "# Same as {\"a\", \"b\", \"c\"}\n",
    "myset = set([\"a\", \"b\", \"c\"])\n",
    "print(myset)\n",
    " \n",
    "# Adding element to the set\n",
    "myset.add(\"d\")\n",
    "print(myset)"
   ]
  },
  {
   "cell_type": "markdown",
   "metadata": {},
   "source": [
    "# Frozen Sets\n",
    "Frozen sets in Python are immutable objects that only support methods and operators that produce a result without affecting the frozen set or sets to which they are applied. While elements of a set can be modified at any time, elements of the frozen set remain the same after creation. \n",
    "If no parameters are passed, it returns an empty frozenset."
   ]
  },
  {
   "cell_type": "code",
   "execution_count": 15,
   "metadata": {},
   "outputs": [
    {
     "name": "stdout",
     "output_type": "stream",
     "text": [
      "Normal Set\n",
      "{'b', 'c', 'a'}\n",
      "\n",
      "Frozen Set\n",
      "frozenset({'f', 'g', 'e'})\n"
     ]
    }
   ],
   "source": [
    "# Python program to demonstrate differences\n",
    "# between normal and frozen set\n",
    " \n",
    "# Same as {\"a\", \"b\",\"c\"}\n",
    "normal_set = set([\"a\", \"b\",\"c\"])\n",
    " \n",
    "print(\"Normal Set\")\n",
    "print(normal_set)\n",
    " \n",
    "# A frozen set\n",
    "frozen_set = frozenset([\"e\", \"f\", \"g\"])\n",
    " \n",
    "print(\"\\nFrozen Set\")\n",
    "print(frozen_set)\n",
    " \n",
    "# Uncommenting below line would cause error as\n",
    "# we are trying to add element to a frozen set\n",
    "frozen_set.add(\"h\")"
   ]
  },
  {
   "cell_type": "markdown",
   "metadata": {},
   "source": [
    "# Internal working of Set\n",
    "This is based on a data structure known as a hash table. \n",
    "If Multiple values are present at the same index position, then the value is appended to that index position, to form a Linked List. In, Python Sets are implemented using dictionary with dummy variables, where key beings the members set with greater optimizations to the time complexity.\n",
    "Set Implementation:-"
   ]
  },
  {
   "cell_type": "markdown",
   "metadata": {},
   "source": []
  },
  {
   "cell_type": "markdown",
   "metadata": {},
   "source": [
    "Sets with Numerous operations on a single HashTable:-"
   ]
  }
 ],
 "metadata": {
  "kernelspec": {
   "display_name": "Python 3.10.3 64-bit",
   "language": "python",
   "name": "python3"
  },
  "language_info": {
   "codemirror_mode": {
    "name": "ipython",
    "version": 3
   },
   "file_extension": ".py",
   "mimetype": "text/x-python",
   "name": "python",
   "nbconvert_exporter": "python",
   "pygments_lexer": "ipython3",
   "version": "3.10.3"
  },
  "orig_nbformat": 4,
  "vscode": {
   "interpreter": {
    "hash": "52634da84371cba311ea128a5ea7cdc41ff074b781779e754b270ff9f8153cee"
   }
  }
 },
 "nbformat": 4,
 "nbformat_minor": 2
}
