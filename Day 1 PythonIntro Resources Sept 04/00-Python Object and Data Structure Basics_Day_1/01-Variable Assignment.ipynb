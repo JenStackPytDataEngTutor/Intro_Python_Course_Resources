{
 "cells": [
  {
   "cell_type": "markdown",
   "metadata": {},
   "source": []
  },
  {
   "cell_type": "markdown",
   "metadata": {},
   "source": [
    "# Variable Assignment\n",
    "\n",
    "## Rules for variable names\n",
    "* names can not start with a number\n",
    "* names can not contain spaces, use _ intead\n",
    "* names can not contain any of these symbols:\n",
    "\n",
    "      :'\",<>/?|\\!@#%^&*~-+\n",
    "       \n",
    "* it's considered best practice ([PEP8](https://www.python.org/dev/peps/pep-0008/#function-and-variable-names)) that names are lowercase with underscores\n",
    "* avoid using Python built-in keywords like `list` and `str`\n",
    "* avoid using the single characters `l` (lowercase letter el), `O` (uppercase letter oh) and `I` (uppercase letter eye) as they can be confused with `1` and `0`"
   ]
  },
  {
   "cell_type": "markdown",
   "metadata": {},
   "source": [
    "## Dynamic Typing\n",
    "\n",
    "Python uses *dynamic typing*, meaning you can reassign variables to different data types. This makes Python very flexible in assigning data types; it differs from other languages that are *statically typed*."
   ]
  },
  {
   "cell_type": "code",
   "execution_count": null,
   "metadata": {},
   "outputs": [],
   "source": [
    "my_dogs = 2"
   ]
  },
  {
   "cell_type": "code",
   "execution_count": null,
   "metadata": {},
   "outputs": [],
   "source": [
    "my_dogs"
   ]
  },
  {
   "cell_type": "code",
   "execution_count": null,
   "metadata": {},
   "outputs": [],
   "source": [
    "my_dogs = ['Sammy', 'Frankie']"
   ]
  },
  {
   "cell_type": "code",
   "execution_count": null,
   "metadata": {},
   "outputs": [],
   "source": [
    "my_dogs"
   ]
  },
  {
   "cell_type": "markdown",
   "metadata": {},
   "source": [
    "### Pros and Cons of Dynamic Typing\n",
    "#### Pros of Dynamic Typing\n",
    "* very easy to work with\n",
    "* faster development time\n",
    "\n",
    "#### Cons of Dynamic Typing\n",
    "* may result in unexpected bugs!\n",
    "* you need to be aware of `type()`"
   ]
  },
  {
   "cell_type": "markdown",
   "metadata": {},
   "source": [
    "## Assigning Variables\n",
    "Variable assignment follows `name = object`, where a single equals sign `=` is an *assignment operator*"
   ]
  },
  {
   "cell_type": "code",
   "execution_count": null,
   "metadata": {
    "collapsed": true
   },
   "outputs": [],
   "source": [
    "a = 5"
   ]
  },
  {
   "cell_type": "code",
   "execution_count": null,
   "metadata": {},
   "outputs": [],
   "source": [
    "a"
   ]
  },
  {
   "cell_type": "markdown",
   "metadata": {},
   "source": [
    "Here we assigned the integer object `5` to the variable name `a`.<br>Let's assign `a` to something else:"
   ]
  },
  {
   "cell_type": "code",
   "execution_count": null,
   "metadata": {
    "collapsed": true
   },
   "outputs": [],
   "source": [
    "a = 10"
   ]
  },
  {
   "cell_type": "code",
   "execution_count": null,
   "metadata": {},
   "outputs": [],
   "source": [
    "a"
   ]
  },
  {
   "cell_type": "markdown",
   "metadata": {},
   "source": [
    "You can now use `a` in place of the number `10`:"
   ]
  },
  {
   "cell_type": "code",
   "execution_count": null,
   "metadata": {},
   "outputs": [],
   "source": [
    "a + a"
   ]
  },
  {
   "cell_type": "markdown",
   "metadata": {},
   "source": [
    "## Reassigning Variables\n",
    "## Augmented Assignment Operators\n",
    "Python lets you reassign variables with a reference to the same object."
   ]
  },
  {
   "cell_type": "code",
   "execution_count": null,
   "metadata": {
    "collapsed": true
   },
   "outputs": [],
   "source": [
    "a = a + 10"
   ]
  },
  {
   "cell_type": "code",
   "execution_count": null,
   "metadata": {},
   "outputs": [],
   "source": [
    "a"
   ]
  },
  {
   "cell_type": "markdown",
   "metadata": {},
   "source": [
    "There's actually a shortcut for this. \n",
    "Python lets you add, subtract, multiply and divide numbers \n",
    "with reassignment using `+=`, `-=`, `*=`, and `/=`.\n",
    "This is know as Augmented Assignment Operators"
   ]
  },
  {
   "cell_type": "markdown",
   "metadata": {},
   "source": [
    "1. An assignment operator is an operator that is used to assign some value to a variable. \n",
    "2. In Python, we write a = 5 to assign the value 5 to variable a. \n",
    "3. Augmented assignment operators have a special role to play in Python programming. \n",
    "4. It basically combines the functioning of the arithmetic or bitwise operator with the assignment operator.\n",
    "5. So lets assume: if we need to add 7 to the variable a and assign the result back to a, then instead of writing it as \n",
    "      1. “a = a + 7“, \n",
    "6. we can use the augmented assignment operator and write the expression as:\n",
    "      1.  “a += 7“. Here += has combined the functionality of arithmetic addition and assignment.\n",
    "\n",
    "So, augmented assignment operators provide a short way to perform:\n",
    "    1. a binary operation and \n",
    "    2. assigning results back to one of the operands. \n",
    "    3. The way to write an augmented operator is just to write that binary operator and assignment operator together. \n",
    "    4. In Python, we have several different augmented assignment operators as mentioned in the in our intro:\n",
    "    5. they are:\n",
    "\n",
    "\n",
    "\n",
    "                   1.  +=, \n",
    "                   2.  -=, \n",
    "                   3.  *=, \n",
    "                   4.  /=, \n",
    "                   5.  //=, \n",
    "                   6.  **=, \n",
    "                   7.  |=, \n",
    "                   8.  &=, \n",
    "                   9.  >>=, \n",
    "                   10. <<=, \n",
    "                   11. %=\n",
    "                   12. ^=. \n",
    "   \n",
    "\n",
    "\n",
    "   \n",
    "    6.  Let’s see their functioning with the help of some code examples:"
   ]
  },
  {
   "cell_type": "code",
   "execution_count": null,
   "metadata": {},
   "outputs": [],
   "source": [
    "a = 10"
   ]
  },
  {
   "cell_type": "code",
   "execution_count": null,
   "metadata": {
    "collapsed": true
   },
   "outputs": [],
   "source": [
    "a += 10"
   ]
  },
  {
   "cell_type": "code",
   "execution_count": null,
   "metadata": {},
   "outputs": [],
   "source": [
    "a"
   ]
  },
  {
   "cell_type": "code",
   "execution_count": null,
   "metadata": {
    "collapsed": true
   },
   "outputs": [],
   "source": [
    "a *= 2"
   ]
  },
  {
   "cell_type": "code",
   "execution_count": null,
   "metadata": {},
   "outputs": [],
   "source": [
    "a"
   ]
  },
  {
   "cell_type": "code",
   "execution_count": null,
   "metadata": {},
   "outputs": [],
   "source": [
    "#a = a + b can be written as a += b\n",
    "# Addition & Assignment\n",
    "a = 15\n",
    "b = 20\n",
    " \n",
    "a += b\n",
    "print(a)"
   ]
  },
  {
   "cell_type": "code",
   "execution_count": null,
   "metadata": {},
   "outputs": [],
   "source": [
    "#a = a – b can be written as a -= b\n",
    "# Subtraction & Assignment\n",
    "a = 107\n",
    "b = 99\n",
    " \n",
    "a -= b\n",
    "print(a)"
   ]
  },
  {
   "cell_type": "code",
   "execution_count": null,
   "metadata": {},
   "outputs": [],
   "source": [
    "#a = a * b can be written as a *= b\n",
    "# Multiplication & Assignment\n",
    "a = 12\n",
    "b = 23\n",
    " \n",
    "a *= b\n",
    "print(a)"
   ]
  },
  {
   "cell_type": "code",
   "execution_count": null,
   "metadata": {},
   "outputs": [],
   "source": [
    "#a = a / b can be written as a /= b\n",
    "# Division & Assignment\n",
    "a = 56\n",
    "b = 5\n",
    " \n",
    "a /= b\n",
    "print(a)"
   ]
  },
  {
   "cell_type": "code",
   "execution_count": null,
   "metadata": {},
   "outputs": [],
   "source": [
    "#a = a // b can be written as a //= b\n",
    "# Floor Division & Assignment\n",
    "a = 56\n",
    "b = 8\n",
    " \n",
    "a //= b\n",
    "print(a)"
   ]
  },
  {
   "cell_type": "code",
   "execution_count": null,
   "metadata": {},
   "outputs": [],
   "source": [
    "#a = a % b can be written as a %= b\n",
    "# Modulo & Assignment\n",
    "a = 34\n",
    "b = 5\n",
    " \n",
    "a %= b\n",
    "print(a)"
   ]
  },
  {
   "cell_type": "code",
   "execution_count": null,
   "metadata": {},
   "outputs": [],
   "source": [
    "#a = a**b can be written as a **= b\n",
    "# Power & Assignment\n",
    "a = 5\n",
    "b = 3\n",
    " \n",
    "a **= b\n",
    "print(a)"
   ]
  },
  {
   "cell_type": "code",
   "execution_count": null,
   "metadata": {},
   "outputs": [],
   "source": [
    "#a = a & b can be written as a &= b\n",
    "# Bitwise AND & Assignment\n",
    "a = 12\n",
    "b = 10\n",
    " \n",
    "a &= b\n",
    "print(a)"
   ]
  },
  {
   "cell_type": "code",
   "execution_count": null,
   "metadata": {},
   "outputs": [],
   "source": [
    "#a = a | b can be written as a |= b\n",
    "\n",
    "# Bitwise OR and Assignment\n",
    "a = 12\n",
    "b = 10\n",
    " \n",
    "a |= b\n",
    "print(a)"
   ]
  },
  {
   "cell_type": "code",
   "execution_count": null,
   "metadata": {},
   "outputs": [],
   "source": [
    "#a = a ^ b can be written as a ^= b\n",
    "\n",
    "# Bitwise XOR and Assignment\n",
    "a = 12\n",
    "b = 10\n",
    " \n",
    "a ^= b\n",
    "print(a)"
   ]
  },
  {
   "cell_type": "code",
   "execution_count": null,
   "metadata": {},
   "outputs": [],
   "source": [
    "#a = a << b can be written as a <<= b\n",
    "# Bitwise Left Shift and Assignment\n",
    "a = 17\n",
    "b = 2\n",
    " \n",
    "a <<= b\n",
    "print(a)"
   ]
  },
  {
   "cell_type": "code",
   "execution_count": null,
   "metadata": {},
   "outputs": [],
   "source": [
    "#a = a >> b can be written as a >>= b\n",
    "\n",
    "# Bitwise Right Shift and Assignment\n",
    "a = 17\n",
    "b = 2\n",
    " \n",
    "a >>= b\n",
    "print(a)"
   ]
  },
  {
   "cell_type": "markdown",
   "metadata": {},
   "source": [
    "## Python Bitwise Operators\n",
    "Bitwise operators are used to compare (binary) numbers:"
   ]
  },
  {
   "cell_type": "markdown",
   "metadata": {},
   "source": [
    "\n",
    "Operator\tName\tDescription\n",
    "1. & \t        AND\t    Sets each bit to 1 if both bits are 1\n",
    "2. |\t        OR\t    Sets each bit to 1 if one of two bits is 1\n",
    "3. ^\t        XOR\t    Sets each bit to 1 if only one of two bits is 1\n",
    "4. ~ \t        NOT\t    Inverts all the bits\n",
    "5. <<\t        Zero    fill left shift\tShift left by pushing zeros in from the right and let \n",
    "                    the leftmost bits fall off\n",
    "6. >>\t        Signed  right shift\tShift right by pushing copies of the leftmost bit in from the left, \n",
    "            and let the rightmost bits fall off"
   ]
  },
  {
   "cell_type": "markdown",
   "metadata": {},
   "source": [
    "\n",
    "## Python Operators\n",
    "1. Operators\n",
    "2. Arithmetic Operators\n",
    "3. Assignment Operators\n",
    "4. Comparison Operators\n",
    "5. Logical Operators\n",
    "6. Identity Operators\n",
    "7. Membership Operators"
   ]
  },
  {
   "cell_type": "markdown",
   "metadata": {},
   "source": [
    " \n",
    "# Python Operators\n",
    "Operators are used to perform operations on variables and values.\n",
    "\n",
    "In the example below, we use the + operator to add together two values:"
   ]
  },
  {
   "cell_type": "code",
   "execution_count": null,
   "metadata": {},
   "outputs": [],
   "source": [
    "#Example of Operators used to perform operations on variables and values.\n",
    "print(10 + 5)"
   ]
  },
  {
   "cell_type": "markdown",
   "metadata": {},
   "source": [
    "# Python divides the operators in the following groups:\n",
    "\n",
    "1. Arithmetic operators\n",
    "2. Assignment operators\n",
    "3. Comparison operators\n",
    "4. Logical operators\n",
    "5. Identity operators\n",
    "6. Membership operators\n",
    "7. Bitwise operators"
   ]
  },
  {
   "cell_type": "markdown",
   "metadata": {},
   "source": [
    "# Arithmetic operators\n",
    "Operator\tName\t    Example\n",
    "1. +\t    Addition\t    x + y\n",
    "2. -\t    Subtraction\t    x - y\n",
    "3. *\t    Multiplication\tx * y\n",
    "4. /\t    Division\t    x / y\n",
    "5. %\t    Modulus\t        x % y\n",
    "6. **\t    Exponentiation\tx ** y\n",
    "7. //\t    Floor division\tx // y"
   ]
  },
  {
   "cell_type": "markdown",
   "metadata": {},
   "source": [
    "# Python Assignment Operators\n",
    "Assignment operators are used to assign values to variables:\n",
    "\n",
    "Operator\tExample\t    Same As\t\n",
    "1. =\t        x = 5\t    x = 5\t\n",
    "2. +=\t        x += 3\t    x = x + 3\t\n",
    "3. -=\t        x -= 3\t    x = x - 3\t\n",
    "4. *=\t        x *= 3\t    x = x * 3\t\n",
    "5. /=\t        x /= 3\t    x = x / 3\t\n",
    "6. %=\t        x %= 3\t    x = x % 3\t\n",
    "7. //=\t        x //= 3\t    x = x // 3\t\n",
    "8. **=\t        x **= 3\t    x = x ** 3\t\n",
    "9. &=\t        x &= 3\t    x = x & 3\t\n",
    "10. |=\t        x |= 3\t    x = x | 3\t\n",
    "11. ^=\t        x ^= 3\t    x = x ^ 3\t\n",
    "12. '>>='\t        x >>= 3\t    x = x >> 3\t\n",
    "13. '<<='\t        x <<= 3\t    x = x << 3"
   ]
  },
  {
   "cell_type": "markdown",
   "metadata": {},
   "source": [
    "# Python Comparison Operators\n",
    "Comparison operators are used to compare two values:\n",
    "\n",
    "Operator\t    Name\t                    Example\t\n",
    "1. ==\t        Equal\t                    x == y\t\n",
    "2. !=\t        Not equal\t                x != y\t\n",
    "3. >\t        Greater than\t            x > y\t\n",
    "4. <\t        Less than\t                x < y\t\n",
    "5. >=\t        Greater than or equal to\tx >= y\t\n",
    "6. <=\t        Less than or equal to\t    x <= y\t\n",
    "\n",
    "# Python Logical Operators\n",
    "Logical operators are used to combine conditional statements:\n",
    "\n",
    "Operator\tDescription\t                                                    Example\t\n",
    "and \t    Returns True if both statements are true\t                    x < 5 and  x < 10\t\n",
    "or\t        Returns True if one of the statements is true\t                x < 5 or x < 4\t\n",
    "not\t        Reverse the result, returns False if the result is true\t        not(x < 5 and x < 10)\t\n",
    "\n",
    "# Python Identity Operators\n",
    "Identity operators are used to compare the objects, not if they are equal, but if they are actually \n",
    "the same object, with the same memory location:\n",
    "\n",
    "Operator\tDescription\t                                            Example\n",
    "is \t        Returns True if both variables are the same object\t    x is y\t\n",
    "is not\t    Returns True if both variables are not the same object\tx is not y\t\n",
    "\n",
    "# Python Membership Operators\n",
    "Membership operators are used to test if a sequence is presented in an object:\n",
    "\n",
    "Operator\tDescription\t                                                            Example\n",
    "in \t        Returns True if a sequence with the specified \n",
    "            value is present in the object\t                                        x in y\t\n",
    "not in\t    Returns True if a sequence with the specified \n",
    "            value is not present in the object\t                                    x not in y\t\n",
    "\n",
    "\n",
    "# Python Bitwise Operators\n",
    "Bitwise operators are used to compare (binary) numbers:\n",
    "\n",
    "Operator\t            Name\tDescription\n",
    "& \t                    AND\t    Sets each bit to 1 if both bits are 1\n",
    "|\t                    OR\t    Sets each bit to 1 if one of two bits is 1\n",
    " ^\t                    XOR\t    Sets each bit to 1 if only one of two bits is 1\n",
    "~ \t                    NOT\t    Inverts all the bits\n",
    "<<\tZero fill left shift        Shift left by pushing zeros in from the right and let the \n",
    "                                leftmost bits fall off\n",
    "'>>'\tSigned right shift\t        Shift right by pushing copies of the leftmost bit in from the left, \n",
    "                                and let the rightmost bits fall off\n"
   ]
  },
  {
   "cell_type": "markdown",
   "metadata": {},
   "source": [
    "# Built-in Data Types\n",
    "In programming, data type is an important concept.\n",
    "\n",
    "Variables can store data of different types, and different types can do different things.\n",
    "\n",
    "Python has the following data types built-in by default, in these categories:\n",
    "\n",
    "1. Text Type:\t    str\n",
    "2. Numeric Types:\tint, float, complex\n",
    "3. Sequence Types:\tlist, tuple, range\n",
    "4. Mapping Type:\tdict\n",
    "5. Set Types:\t    set, frozenset\n",
    "6. Boolean Type:\tbool\n",
    "7. Binary Types:\tbytes, bytearray, memoryview\n",
    "8. None Type:\t    NoneType"
   ]
  },
  {
   "cell_type": "markdown",
   "metadata": {},
   "source": [
    "## Determining variable type with `type()`\n",
    "You can check what type of object is assigned to a variable using Python's built-in `type()` function. Common data types include:\n",
    "* **int** (for integer)\n",
    "* **float**\n",
    "* **str** (for string)\n",
    "* **list**\n",
    "* **tuple**\n",
    "* **dict** (for dictionary)\n",
    "* **set**\n",
    "* **bool** (for Boolean True/False)"
   ]
  },
  {
   "cell_type": "code",
   "execution_count": null,
   "metadata": {},
   "outputs": [],
   "source": [
    "type(my_dogs)"
   ]
  },
  {
   "cell_type": "code",
   "execution_count": null,
   "metadata": {
    "collapsed": true
   },
   "outputs": [],
   "source": [
    "a = (1,2)"
   ]
  },
  {
   "cell_type": "code",
   "execution_count": null,
   "metadata": {},
   "outputs": [],
   "source": [
    "type(a)"
   ]
  },
  {
   "cell_type": "code",
   "execution_count": null,
   "metadata": {},
   "outputs": [],
   "source": [
    "a = \"Hello World\"\t#str\n",
    "b = 20\t#int\n",
    "c = 20.5\t#float\n",
    "d = 1j\t#complex\n",
    "e = [\"apple\", \"banana\", \"cherry\"]\t#list\n",
    "f = (\"apple\", \"banana\", \"cherry\")\t#tuple\n",
    "g = range(6)\t#range\n",
    "h = {\"name\" : \"John\", \"age\" : 36}\t#dict\n",
    "i = {\"apple\", \"banana\", \"cherry\"}\t#set\n",
    "j = frozenset({\"apple\", \"banana\", \"cherry\"})\t#frozenset\n",
    "k = True\t#bool\n",
    "l = b\"Hello\"\t#bytes\n",
    "m = bytearray(5)\t#bytearray\n",
    "n = memoryview(bytes(5))\t#memoryview\n",
    "o = None\t#NoneType\n"
   ]
  },
  {
   "cell_type": "code",
   "execution_count": null,
   "metadata": {},
   "outputs": [],
   "source": [
    "#If you want to specify the data type, you can use the following constructor functions:\n",
    "\n",
    "#Example\t            Data Type\n",
    "x = str(\"Hello World\")\t#str\n",
    "x = int(20)\t#int\n",
    "x = float(20.5)\t#float\n",
    "x = complex(1j)\t#complex\n",
    "x = list((\"apple\", \"banana\", \"cherry\"))\t#list\n",
    "x = tuple((\"apple\", \"banana\", \"cherry\"))\t#tuple\n",
    "x = range(6)\t#range\n",
    "x = dict(name=\"John\", age=36)\t#dict\n",
    "x = set((\"apple\", \"banana\", \"cherry\"))\t#set\n",
    "x = frozenset((\"apple\", \"banana\", \"cherry\"))\t#frozenset\n",
    "x = bool(5)\t#bool\n",
    "x = bytes(5)\t#bytes\n",
    "x = bytearray(5)\t#bytearray\n",
    "x = memoryview(bytes(5))"
   ]
  },
  {
   "cell_type": "markdown",
   "metadata": {},
   "source": [
    "Great! You should now understand the basics of variable assignment and reassignment in Python.<br>Up next, we'll learn about strings!"
   ]
  },
  {
   "cell_type": "markdown",
   "metadata": {},
   "source": [
    "# Python Casting"
   ]
  },
  {
   "cell_type": "markdown",
   "metadata": {},
   "source": [
    "### Specify a Variable Type\n",
    "There may be times when you want to specify a type on to a variable. This can be done with casting. Python is an object-orientated language, and as such it uses classes to define data types, including its primitive types.\n",
    "\n",
    "Casting in python is therefore done using constructor functions:\n",
    "\n",
    "1. int() - constructs an integer number from an integer literal, a float literal (by removing all decimals), or a string literal (providing the string represents a whole number)\n",
    "2. float() - constructs a float number from an integer literal, a float literal or a string literal (providing the string represents a float or an integer)\n",
    "3. str() - constructs a string from a wide variety of data types, including strings, integer literals and float literals"
   ]
  },
  {
   "cell_type": "code",
   "execution_count": null,
   "metadata": {},
   "outputs": [],
   "source": [
    "#Integers:\n",
    "\n",
    "x = int(1)   # x will be 1\n",
    "y = int(2.8) # y will be 2\n",
    "z = int(\"3\") # z will be 3"
   ]
  },
  {
   "cell_type": "code",
   "execution_count": null,
   "metadata": {},
   "outputs": [],
   "source": [
    "#Floats:\n",
    "\n",
    "x = float(1)     # x will be 1.0\n",
    "y = float(2.8)   # y will be 2.8\n",
    "z = float(\"3\")   # z will be 3.0\n",
    "w = float(\"4.2\") # w will be 4.2"
   ]
  },
  {
   "cell_type": "code",
   "execution_count": null,
   "metadata": {},
   "outputs": [],
   "source": [
    "#Example\n",
    "#Strings:\n",
    "\n",
    "x = str(\"s1\") # x will be 's1'\n",
    "y = str(2)    # y will be '2'\n",
    "z = str(3.0)  # z will be '3.0'"
   ]
  }
 ],
 "metadata": {
  "kernelspec": {
   "display_name": "Python 3.10.3 64-bit",
   "language": "python",
   "name": "python3"
  },
  "language_info": {
   "codemirror_mode": {
    "name": "ipython",
    "version": 3
   },
   "file_extension": ".py",
   "mimetype": "text/x-python",
   "name": "python",
   "nbconvert_exporter": "python",
   "pygments_lexer": "ipython3",
   "version": "3.10.3"
  },
  "vscode": {
   "interpreter": {
    "hash": "52634da84371cba311ea128a5ea7cdc41ff074b781779e754b270ff9f8153cee"
   }
  }
 },
 "nbformat": 4,
 "nbformat_minor": 2
}
