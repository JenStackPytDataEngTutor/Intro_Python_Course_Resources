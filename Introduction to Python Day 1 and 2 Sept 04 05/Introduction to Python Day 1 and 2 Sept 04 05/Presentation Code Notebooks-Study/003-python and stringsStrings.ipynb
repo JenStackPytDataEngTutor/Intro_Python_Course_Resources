{
 "cells": [
  {
   "cell_type": "markdown",
   "metadata": {},
   "source": [
    "# Python Strings\n",
    "\n",
    "1. Python has a built-in string class named \"str\" with many handy features \n",
    "String literals can be enclosed by either double or single quotes, although single quotes are more commonly used. \n",
    "\n",
    "2. Backslash escapes work the usual way within both single and double quoted literals -- e.g. \\n \\' \\\". \n",
    "\n",
    "3. A double quoted string literal can contain single quotes without any fuss (e.g. \"I didn't do it\") and likewise single quoted string can contain double quotes. A string literal can span multiple lines, but there must be a backslash \\ at the end of each line to escape the newline. String literals inside triple quotes, \"\"\" or ''', can span multiple lines of text\n",
    "\n",
    "4. Python strings are \"immutable\" which means they cannot be changed after they are created \n",
    "(Java strings also use this immutable style). Since strings can't be changed, we construct *new* \n",
    "strings as we go to represent computed values. \n",
    "So for example the expression ('hello' + 'there') takes in the 2 strings 'hello' and 'there' and builds a new string 'hellothere'\n",
    "\n",
    "5. Characters in a string can be accessed using the standard [ ] syntax, and like Java and C++, Python \n",
    "uses zero-based indexing, so if s is 'hello' s[1] is 'e'. If the index is out of bounds for the string, \n",
    "Python raises an error. \n",
    "The Python style (unlike Perl) is to halt if it can't tell what to do, rather than just make up a default value. \n",
    "\n",
    "6. The handy \"slice\" syntax (below) also works to extract any substring from a string. The len(string) function returns the length of a string. The [ ] syntax and the len() function actually work on any sequence type -- strings, lists, etc.. Python tries to make its operations work consistently across different types. Python newbie gotcha: don't use \"len\" as a variable name to avoid blocking out the len() function. \n",
    "\n",
    "7. The '+' operator can concatenate two strings. Notice in the code below that variables are not pre-declared -- just assign to them and go.\n"
   ]
  },
  {
   "cell_type": "code",
   "execution_count": null,
   "metadata": {},
   "outputs": [],
   "source": [
    "s = 'hi'\n",
    "print s[1]          ## i\n",
    "print len(s)        ## 2\n",
    "print s + ' there'  ## hi there\n",
    "  # Unlike Java, the '+' does not automatically convert numbers or other \n",
    "  # types to string form. The str() function converts values \n",
    "  # to a string form so they can be combined with other strings."
   ]
  },
  {
   "cell_type": "markdown",
   "metadata": {},
   "source": [
    "# Numbers\n",
    "the standard operators, +, /, * work in the usual way. \n",
    "\n",
    "There is no ++ operator, but +=, -=, etc. work. If you want integer division, it is correct \n",
    "to use 2 slashes -- e.g. 6 // 5 is 1 "
   ]
  },
  {
   "cell_type": "code",
   "execution_count": null,
   "metadata": {},
   "outputs": [],
   "source": [
    "  raw = r'this\\t\\n and that'\n",
    "\n",
    "  # this\\t\\n and that\n",
    "  print(raw)\n",
    "\n",
    "  multi = \"\"\"It was the best of times.\n",
    "  It was the worst of times.\"\"\"\n",
    "\n",
    "  # It was the best of times.\n",
    "  # It was the worst of times.\n",
    "print(multi)"
   ]
  },
  {
   "cell_type": "code",
   "execution_count": null,
   "metadata": {},
   "outputs": [],
   "source": [
    "pi = 3.14\n",
    "##text = 'The value of pi is ' + pi      ## NO, does not work\n",
    "text = 'The value of pi is '  + str(pi)  ## yes"
   ]
  },
  {
   "cell_type": "markdown",
   "metadata": {},
   "source": [
    "## Formatting with placeholders\n",
    "You can use <code>%s</code> to inject strings into your print statements. The modulo `%` is referred to as a \"string formatting operator\"."
   ]
  },
  {
   "cell_type": "markdown",
   "metadata": {},
   "source": [
    "The %s operator adds a string inside another string.\n",
    "\n",
    "Here, we write a program that calculates the speed at which a car travelled, on average, \n",
    "to reach a destination. \n",
    "To calculate this information, use the following formula:\n",
    "\n",
    "speed = distance / time\n",
    "\n",
    "Start by asking the user for the distance they travelled, the time it took them to reach their destination, \n",
    "and where they were going:"
   ]
  },
  {
   "cell_type": "markdown",
   "metadata": {},
   "source": [
    "Next, we calculate the average speed at which the user was traveling:\n",
    "\n",
    "speed = round(float(distance) / float(time), 2)\n",
    "\n",
    "We’ve converted the values of “distance” and “time” to floating point numbers so we can \n",
    "perform a mathematical operation using those values. We’ve also rounded the result of our \n",
    "speed calculation to two decimal places.\n",
    "\n",
    "Now that we’ve calculated this value, we inform the user in the Python console of their average speed. \n",
    "To do this, use the string formatting:"
   ]
  },
  {
   "cell_type": "markdown",
   "metadata": {},
   "source": [
    "We’ve converted the values of “distance” and “time” to floating point numbers so we can \n",
    "perform a mathematical operation using those values. We’ve also rounded the result of our speed calculation \n",
    "to two decimal places. Now that we’ve calculated this value, \n",
    "we inform the user in the Python console of their average speed. \n",
    "To do this, use the string formatting:\n",
    "There are three parts to our %s syntax:\n",
    "\n",
    "The %s operator is where string values are added.\n",
    "The % (where, speed) is where we specify what values should be added to our string.\n",
    "The number of values you want to add to a string must be equal to those specified in parenthesis \n",
    "after the % operator at the end of a string. Otherwise, \n",
    "you encounter a “TypeError: not enough arguments for format string” error.\n",
    "\n",
    "In our code, we are adding two values into our string. We’ve used the %s operator twice and \n",
    "there are two values in parenthesis after the % sign at the end of our string.\n",
    "\n",
    "Run our program:"
   ]
  },
  {
   "cell_type": "code",
   "execution_count": 26,
   "metadata": {},
   "outputs": [
    {
     "name": "stdout",
     "output_type": "stream",
     "text": [
      "On your journey to tralee, you drove at an average speed of 0.5 miles per hour.\n"
     ]
    }
   ],
   "source": [
    "distance = input(\"How far did you travel (in miles)? \")\n",
    "time = input(\"How long did it take you to reach your destination (in hours)? \")\n",
    "where = input(\"Where were you going? \")\n",
    "\n",
    "#Next, we calculate the average speed at which the user was traveling\n",
    "speed = round(float(distance) / float(time), 2)\n",
    "\n",
    "print(\"On your journey to %s, you drove at an average speed of %s miles per hour.\" % (where, speed))"
   ]
  },
  {
   "cell_type": "code",
   "execution_count": null,
   "metadata": {},
   "outputs": [],
   "source": [
    "# declaring a string variable\n",
    "var1 = \"Python!\"\n",
    "var2 = \"Python PCAP\"\n",
    "\n",
    "# append multiple strings within a string\n",
    "print(\"Hello %s Are you enjoying being at %s for preparations.\" % (var1, var2))"
   ]
  },
  {
   "cell_type": "markdown",
   "metadata": {},
   "source": [
    "There are three parts to our %s syntax:\n",
    "\n",
    "The %s operator is where string values are added.\n",
    "The % (where, speed) is where we specify what values should be added to our string."
   ]
  },
  {
   "cell_type": "code",
   "execution_count": null,
   "metadata": {},
   "outputs": [],
   "source": [
    "# declaring a string variable\n",
    "var1 = \"Python!\"\n",
    "var2 = \"Python PCAP\"\n",
    "\n",
    "# append multiple strings within a string\n",
    "print(\"Hello %s Are you enjoying being at %s for preparations.\" % (var1, var2))"
   ]
  },
  {
   "cell_type": "markdown",
   "metadata": {},
   "source": [
    "Mapping strings to %s\n",
    "However, the number of occurrences of this operator must be equal to the number \n",
    "of strings to replace with after the % sign. Otherwise, an error of the type “TypeError: \n",
    "not enough arguments for format string” is thrown."
   ]
  },
  {
   "cell_type": "code",
   "execution_count": null,
   "metadata": {},
   "outputs": [],
   "source": [
    "# declaring string variables\n",
    "str1 = 'Understanding'\n",
    "str2 = '%s'\n",
    "str3 = 'at'\n",
    "str4 = 'PCAP for Python'\n",
    "# concatenating strings but %s not equal to string variables\n",
    "final_str = \"%s %s %s %s\" % (str1, str3, str4)\n",
    "# printing the final string\n",
    "print(\"Concatenating multiple strings using Python '%s' operator:\\n\")\n",
    "print(final_str)"
   ]
  },
  {
   "cell_type": "code",
   "execution_count": null,
   "metadata": {},
   "outputs": [],
   "source": [
    "# declaring string variables\n",
    "str1 = 'Understanding'\n",
    "str2 = '%s'\n",
    "str3 = 'at'\n",
    "str4 = 'Python for PCAP'\n",
    "# concatenating strings\n",
    "final_str = \"%s %s %s %s\" % (str1, str2, str3, str4)\n",
    "# printing the final string\n",
    "print(\"Concatenating multiple strings using Python '%s' operator:\\n\")\n",
    "print(final_str)"
   ]
  },
  {
   "cell_type": "markdown",
   "metadata": {},
   "source": [
    "Order %s using dictionary\n",
    "The strings are printed in whatever order they are appended using the dictionary key in output."
   ]
  },
  {
   "cell_type": "code",
   "execution_count": null,
   "metadata": {},
   "outputs": [],
   "source": [
    "# declaring string variables with dictionary\n",
    "dct = {'str1': 'at',\n",
    "       'str2': 'Python For PCAP',\n",
    "       'str3': 'Understanding',\n",
    "       'str4': '%s'}\n",
    "  \n",
    "# concatenating strings\n",
    "final_str = \"%(str3)s %(str4)s %(str1)s %(str2)s\" % dct\n",
    "  \n",
    "# printing the final string\n",
    "print(\"Concatenating multiple strings using Python '%s' operator:\\n\")\n",
    "print(final_str)"
   ]
  },
  {
   "cell_type": "markdown",
   "metadata": {},
   "source": [
    "List as a string for %s\n",
    "A non-string operator can also be formatted using the %s symbol in Python. \n",
    "Tuples can also be \n",
    "both inserted and formatted using this operator. "
   ]
  },
  {
   "cell_type": "code",
   "execution_count": null,
   "metadata": {},
   "outputs": [],
   "source": [
    "# declaring string variables\n",
    "str1 = 'Understanding'\n",
    "str2 = 'integers'\n",
    "str3 = 'at'\n",
    "str4 = 'Python For PCAP = '\n",
    "  \n",
    "# declaring list variables\n",
    "lst = [1, 2, 3]\n",
    "  \n",
    "# concatenating strings as well as list\n",
    "final_str = \"%s %s %s %s %s\" % (str1, str2, str3, str4, lst)\n",
    "  \n",
    "# printing the final string\n",
    "print(\"Concatenating multiple values using Python '%s' operator:\\n\")\n",
    "print(final_str)"
   ]
  },
  {
   "cell_type": "code",
   "execution_count": null,
   "metadata": {},
   "outputs": [],
   "source": [
    "print(\"I'm going to inject %s here.\" %'something')"
   ]
  },
  {
   "cell_type": "markdown",
   "metadata": {},
   "source": [
    "You can pass multiple items by placing them inside a tuple after the `%` operator."
   ]
  },
  {
   "cell_type": "code",
   "execution_count": null,
   "metadata": {},
   "outputs": [],
   "source": [
    "print(\"I'm going to inject %s text here, and %s text here.\" %('some','more'))"
   ]
  },
  {
   "cell_type": "markdown",
   "metadata": {},
   "source": [
    "You can also pass variable names:"
   ]
  },
  {
   "cell_type": "code",
   "execution_count": null,
   "metadata": {},
   "outputs": [],
   "source": [
    "x, y = 'some', 'more'\n",
    "print(\"I'm going to inject %s text here, and %s text here.\"%(x,y))"
   ]
  },
  {
   "cell_type": "markdown",
   "metadata": {},
   "source": [
    "### Format conversion methods.\n",
    "It should be noted that two methods <code>%s</code> and <code>%r</code> convert any python object to a string using two separate methods: `str()` and `repr()`. We will learn more about these functions later on in the course, but you should note that `%r` and `repr()` deliver the *string representation* of the object, including quotation marks and any escape characters."
   ]
  },
  {
   "cell_type": "code",
   "execution_count": null,
   "metadata": {},
   "outputs": [],
   "source": [
    "print('He said his name was %s.' %'Fred')\n",
    "print('He said his name was %r.' %'Fred')"
   ]
  },
  {
   "cell_type": "markdown",
   "metadata": {},
   "source": [
    "As another example, `\\t` inserts a tab into a string."
   ]
  },
  {
   "cell_type": "code",
   "execution_count": null,
   "metadata": {},
   "outputs": [],
   "source": [
    "print('I once caught a fish %s.' %'this \\tbig')\n",
    "print('I once caught a fish %r.' %'this \\tbig')"
   ]
  },
  {
   "cell_type": "markdown",
   "metadata": {},
   "source": [
    "The `%s` operator converts whatever it sees into a string, including integers and floats. The `%d` operator converts numbers to integers first, without rounding. Note the difference below:"
   ]
  },
  {
   "cell_type": "code",
   "execution_count": null,
   "metadata": {},
   "outputs": [],
   "source": [
    "print('I wrote %s programs today.' %3.75)\n",
    "print('I wrote %d programs today.' %3.75)   "
   ]
  },
  {
   "cell_type": "markdown",
   "metadata": {},
   "source": [
    "### Padding and Precision of Floating Point Numbers\n",
    "Floating point numbers use the format <code>%5.2f</code>. Here, <code>5</code> would be the minimum number of characters the string should contain; these may be padded with whitespace if the entire number does not have this many digits. Next to this, <code>.2f</code> stands for how many numbers to show past the decimal point. Let's see some examples:"
   ]
  },
  {
   "cell_type": "code",
   "execution_count": null,
   "metadata": {},
   "outputs": [],
   "source": [
    "print('Floating point numbers: %5.2f' %(13.144))"
   ]
  },
  {
   "cell_type": "code",
   "execution_count": null,
   "metadata": {},
   "outputs": [],
   "source": [
    "print('Floating point numbers: %1.0f' %(13.144))"
   ]
  },
  {
   "cell_type": "code",
   "execution_count": null,
   "metadata": {},
   "outputs": [],
   "source": [
    "print('Floating point numbers: %1.5f' %(13.144))"
   ]
  },
  {
   "cell_type": "code",
   "execution_count": null,
   "metadata": {},
   "outputs": [],
   "source": [
    "print('Floating point numbers: %10.2f' %(13.144))"
   ]
  },
  {
   "cell_type": "code",
   "execution_count": null,
   "metadata": {},
   "outputs": [],
   "source": [
    "print('Floating point numbers: %25.2f' %(13.144))"
   ]
  },
  {
   "cell_type": "markdown",
   "metadata": {},
   "source": [
    "For more information on string formatting with placeholders visit https://docs.python.org/3/library/stdtypes.html#old-string-formatting"
   ]
  },
  {
   "cell_type": "markdown",
   "metadata": {},
   "source": [
    "### Multiple Formatting\n",
    "Nothing prohibits using more than one conversion tool in the same print statement:"
   ]
  },
  {
   "cell_type": "code",
   "execution_count": null,
   "metadata": {},
   "outputs": [],
   "source": [
    "print('First: %s, Second: %5.2f, Third: %r' %('hi!',3.1415,'bye!'))"
   ]
  },
  {
   "cell_type": "markdown",
   "metadata": {},
   "source": [
    "## Formatting with the `.format()` method\n",
    "A better way to format objects into your strings for print statements is with the string `.format()` method. The syntax is:\n",
    "\n",
    "    'String here {} then also {}'.format('something1','something2')\n",
    "    \n",
    "For example:"
   ]
  },
  {
   "cell_type": "code",
   "execution_count": null,
   "metadata": {},
   "outputs": [],
   "source": [
    "print('This is a string with an {}'.format('insert'))"
   ]
  },
  {
   "cell_type": "markdown",
   "metadata": {},
   "source": [
    "### The .format() method has several advantages over the %s placeholder method:"
   ]
  },
  {
   "cell_type": "markdown",
   "metadata": {},
   "source": [
    "#### 1. Inserted objects can be called by index position:"
   ]
  },
  {
   "cell_type": "code",
   "execution_count": null,
   "metadata": {},
   "outputs": [],
   "source": [
    "print('The {2} {1} {0}'.format('fox','brown','quick'))"
   ]
  },
  {
   "cell_type": "markdown",
   "metadata": {},
   "source": [
    "#### 2. Inserted objects can be assigned keywords:"
   ]
  },
  {
   "cell_type": "code",
   "execution_count": null,
   "metadata": {},
   "outputs": [],
   "source": [
    "print('First Object: {a}, Second Object: {b}, Third Object: {c}'.format(a=1,b='Two',c=12.3))"
   ]
  },
  {
   "cell_type": "markdown",
   "metadata": {},
   "source": [
    "#### 3. Inserted objects can be reused, avoiding duplication:"
   ]
  },
  {
   "cell_type": "code",
   "execution_count": null,
   "metadata": {},
   "outputs": [],
   "source": [
    "print('A %s saved is a %s earned.' %('penny','penny'))\n",
    "# vs.\n",
    "print('A {p} saved is a {p} earned.'.format(p='penny'))"
   ]
  },
  {
   "cell_type": "markdown",
   "metadata": {},
   "source": [
    "### Alignment, padding and precision with `.format()`\n",
    "Within the curly braces you can assign field lengths, left/right alignments, rounding parameters and more"
   ]
  },
  {
   "cell_type": "code",
   "execution_count": null,
   "metadata": {},
   "outputs": [],
   "source": [
    "print('{0:8} | {1:9}'.format('Fruit', 'Quantity'))\n",
    "print('{0:8} | {1:9}'.format('Apples', 3.))\n",
    "print('{0:8} | {1:9}'.format('Oranges', 10))"
   ]
  },
  {
   "cell_type": "markdown",
   "metadata": {},
   "source": [
    "By default, `.format()` aligns text to the left, numbers to the right. You can pass an optional `<`,`^`, or `>` to set a left, center or right alignment:"
   ]
  },
  {
   "cell_type": "code",
   "execution_count": null,
   "metadata": {},
   "outputs": [],
   "source": [
    "print('{0:<8} | {1:^8} | {2:>8}'.format('Left','Center','Right'))\n",
    "print('{0:<8} | {1:^8} | {2:>8}'.format(11,22,33))"
   ]
  },
  {
   "cell_type": "markdown",
   "metadata": {},
   "source": [
    "You can precede the aligment operator with a padding character"
   ]
  },
  {
   "cell_type": "code",
   "execution_count": null,
   "metadata": {},
   "outputs": [],
   "source": [
    "print('{0:=<8} | {1:-^8} | {2:.>8}'.format('Left','Center','Right'))\n",
    "print('{0:=<8} | {1:-^8} | {2:.>8}'.format(11,22,33))"
   ]
  },
  {
   "cell_type": "markdown",
   "metadata": {},
   "source": [
    "Field widths and float precision are handled in a way similar to placeholders. The following two print statements are equivalent:"
   ]
  },
  {
   "cell_type": "code",
   "execution_count": null,
   "metadata": {},
   "outputs": [],
   "source": [
    "print('This is my ten-character, two-decimal number:%10.2f' %13.579)\n",
    "print('This is my ten-character, two-decimal number:{0:10.2f}'.format(13.579))"
   ]
  },
  {
   "cell_type": "markdown",
   "metadata": {},
   "source": [
    "Note that there are 5 spaces following the colon, and 5 characters taken up by 13.58, for a total of ten characters.\n",
    "\n",
    "For more information on the string `.format()` method visit https://docs.python.org/3/library/string.html#formatstrings"
   ]
  },
  {
   "cell_type": "markdown",
   "metadata": {},
   "source": [
    "## Formatted String Literals (f-strings)"
   ]
  },
  {
   "cell_type": "markdown",
   "metadata": {},
   "source": [
    "Introduced in Python 3.6, f-strings offer several benefits over the older `.format()` string method described above. For one, you can bring outside variables immediately into to the string rather than pass them as arguments through `.format(var)`."
   ]
  },
  {
   "cell_type": "code",
   "execution_count": null,
   "metadata": {},
   "outputs": [],
   "source": [
    "name = 'Fred'\n",
    "\n",
    "print(f\"He said his name is {name}.\")"
   ]
  },
  {
   "cell_type": "markdown",
   "metadata": {},
   "source": [
    "Pass `!r` to get the string representation:"
   ]
  },
  {
   "cell_type": "code",
   "execution_count": null,
   "metadata": {},
   "outputs": [],
   "source": [
    "print(f\"He said his name is {name!r}\")"
   ]
  },
  {
   "cell_type": "markdown",
   "metadata": {},
   "source": [
    "#### Float formatting follows `\"result: {value:{width}.{precision}}\"`"
   ]
  },
  {
   "cell_type": "markdown",
   "metadata": {},
   "source": [
    "Where with the `.format()` method you might see `{value:10.4f}`, with f-strings this can become `{value:{10}.{6}}`\n"
   ]
  },
  {
   "cell_type": "code",
   "execution_count": null,
   "metadata": {},
   "outputs": [],
   "source": [
    "num = 23.45678\n",
    "print(\"My 10 character, four decimal number is:{0:10.4f}\".format(num))\n",
    "print(f\"My 10 character, four decimal number is:{num:{10}.{6}}\")"
   ]
  },
  {
   "cell_type": "markdown",
   "metadata": {},
   "source": [
    "Note that with f-strings, *precision* refers to the total number of digits, not just those following the decimal. This fits more closely with scientific notation and statistical analysis. Unfortunately, f-strings do not pad to the right of the decimal, even if precision allows it:"
   ]
  },
  {
   "cell_type": "code",
   "execution_count": null,
   "metadata": {},
   "outputs": [],
   "source": [
    "num = 23.45\n",
    "print(\"My 10 character, four decimal number is:{0:10.4f}\".format(num))\n",
    "print(f\"My 10 character, four decimal number is:{num:{10}.{6}}\")"
   ]
  },
  {
   "cell_type": "markdown",
   "metadata": {},
   "source": [
    "If this becomes important, you can always use `.format()` method syntax inside an f-string:"
   ]
  },
  {
   "cell_type": "code",
   "execution_count": null,
   "metadata": {},
   "outputs": [],
   "source": [
    "num = 23.45\n",
    "print(\"My 10 character, four decimal number is:{0:10.4f}\".format(num))\n",
    "print(f\"My 10 character, four decimal number is:{num:10.4f}\")"
   ]
  },
  {
   "cell_type": "markdown",
   "metadata": {},
   "source": [
    "For more info on formatted string literals visit https://docs.python.org/3/reference/lexical_analysis.html#f-strings"
   ]
  },
  {
   "cell_type": "markdown",
   "metadata": {},
   "source": [
    "That is the basics of string formatting!"
   ]
  }
 ],
 "metadata": {
  "kernelspec": {
   "display_name": "Python 3 (ipykernel)",
   "language": "python",
   "name": "python3"
  },
  "language_info": {
   "codemirror_mode": {
    "name": "ipython",
    "version": 3
   },
   "file_extension": ".py",
   "mimetype": "text/x-python",
   "name": "python",
   "nbconvert_exporter": "python",
   "pygments_lexer": "ipython3",
   "version": "3.10.3"
  }
 },
 "nbformat": 4,
 "nbformat_minor": 1
}
